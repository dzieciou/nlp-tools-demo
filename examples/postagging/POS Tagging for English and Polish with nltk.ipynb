{
 "cells": [
  {
   "cell_type": "code",
   "execution_count": 1,
   "metadata": {},
   "outputs": [],
   "source": [
    "import nltk\n",
    "from nltk import sent_tokenize, word_tokenize, pos_tag\n",
    "from utils import load_text\n",
    "from pprint import pprint"
   ]
  },
  {
   "cell_type": "markdown",
   "metadata": {},
   "source": [
    "## English"
   ]
  },
  {
   "cell_type": "code",
   "execution_count": 2,
   "metadata": {},
   "outputs": [
    {
     "name": "stderr",
     "output_type": "stream",
     "text": [
      "[nltk_data] Downloading package punkt to\n",
      "[nltk_data]     C:\\Users\\OEM\\AppData\\Roaming\\nltk_data...\n",
      "[nltk_data]   Package punkt is already up-to-date!\n"
     ]
    }
   ],
   "source": [
    "nltk.download('punkt');"
   ]
  },
  {
   "cell_type": "code",
   "execution_count": 3,
   "metadata": {},
   "outputs": [],
   "source": [
    "text = load_text('../../texts/murakami-en.txt')\n",
    "sents = [word_tokenize(sent) for sent in sent_tokenize(text)]"
   ]
  },
  {
   "cell_type": "code",
   "execution_count": 4,
   "metadata": {},
   "outputs": [
    {
     "name": "stderr",
     "output_type": "stream",
     "text": [
      "[nltk_data] Downloading package averaged_perceptron_tagger to\n",
      "[nltk_data]     C:\\Users\\OEM\\AppData\\Roaming\\nltk_data...\n",
      "[nltk_data]   Package averaged_perceptron_tagger is already up-to-\n",
      "[nltk_data]       date!\n"
     ]
    }
   ],
   "source": [
    "nltk.download('averaged_perceptron_tagger');"
   ]
  },
  {
   "cell_type": "code",
   "execution_count": 5,
   "metadata": {},
   "outputs": [
    {
     "data": {
      "text/plain": [
       "[[('The', 'DT'),\n",
       "  ('Wind-Up', 'NNP'),\n",
       "  ('Bird', 'NNP'),\n",
       "  ('Chronicle', 'NNP'),\n",
       "  ('Japan', 'NNP'),\n",
       "  ('’', 'NNP'),\n",
       "  ('s', 'VBZ'),\n",
       "  ('most', 'JJS'),\n",
       "  ('highly', 'RB'),\n",
       "  ('regarded', 'JJ'),\n",
       "  ('novelist', 'NN'),\n",
       "  ('now', 'RB'),\n",
       "  ('vaults', 'VBZ'),\n",
       "  ('into', 'IN'),\n",
       "  ('the', 'DT'),\n",
       "  ('first', 'JJ'),\n",
       "  ('ranks', 'NNS'),\n",
       "  ('of', 'IN'),\n",
       "  ('international', 'JJ'),\n",
       "  ('fiction', 'NN'),\n",
       "  ('writers', 'NNS'),\n",
       "  ('with', 'IN'),\n",
       "  ('this', 'DT'),\n",
       "  ('heroically', 'RB'),\n",
       "  ('imaginative', 'JJ'),\n",
       "  ('novel', 'NN'),\n",
       "  (',', ','),\n",
       "  ('which', 'WDT'),\n",
       "  ('is', 'VBZ'),\n",
       "  ('at', 'IN'),\n",
       "  ('once', 'RB'),\n",
       "  ('a', 'DT'),\n",
       "  ('detective', 'JJ'),\n",
       "  ('story', 'NN'),\n",
       "  (',', ','),\n",
       "  ('an', 'DT'),\n",
       "  ('account', 'NN'),\n",
       "  ('of', 'IN'),\n",
       "  ('a', 'DT'),\n",
       "  ('disintegrating', 'NN'),\n",
       "  ('marriage', 'NN'),\n",
       "  (',', ','),\n",
       "  ('and', 'CC'),\n",
       "  ('an', 'DT'),\n",
       "  ('excavation', 'NN'),\n",
       "  ('of', 'IN'),\n",
       "  ('the', 'DT'),\n",
       "  ('buried', 'JJ'),\n",
       "  ('secrets', 'NNS'),\n",
       "  ('of', 'IN'),\n",
       "  ('World', 'NNP'),\n",
       "  ('War', 'NNP'),\n",
       "  ('II', 'NNP'),\n",
       "  ('.', '.')],\n",
       " [('In', 'IN'),\n",
       "  ('a', 'DT'),\n",
       "  ('Tokyo', 'NNP'),\n",
       "  ('suburb', 'NN'),\n",
       "  ('a', 'DT'),\n",
       "  ('young', 'JJ'),\n",
       "  ('man', 'NN'),\n",
       "  ('named', 'VBN'),\n",
       "  ('Toru', 'NNP'),\n",
       "  ('Okada', 'NNP'),\n",
       "  ('searches', 'VBZ'),\n",
       "  ('for', 'IN'),\n",
       "  ('his', 'PRP$'),\n",
       "  ('wife', 'NN'),\n",
       "  ('’', 'NNP'),\n",
       "  ('s', 'NN'),\n",
       "  ('missing', 'VBG'),\n",
       "  ('cat', 'NN'),\n",
       "  ('.', '.')],\n",
       " [('Soon', 'RB'),\n",
       "  ('he', 'PRP'),\n",
       "  ('finds', 'VBZ'),\n",
       "  ('himself', 'PRP'),\n",
       "  ('looking', 'VBG'),\n",
       "  ('for', 'IN'),\n",
       "  ('his', 'PRP$'),\n",
       "  ('wife', 'NN'),\n",
       "  ('as', 'RB'),\n",
       "  ('well', 'RB'),\n",
       "  ('in', 'IN'),\n",
       "  ('a', 'DT'),\n",
       "  ('netherworld', 'NN'),\n",
       "  ('that', 'WDT'),\n",
       "  ('lies', 'VBZ'),\n",
       "  ('beneath', 'IN'),\n",
       "  ('the', 'DT'),\n",
       "  ('placid', 'JJ'),\n",
       "  ('surface', 'NN'),\n",
       "  ('of', 'IN'),\n",
       "  ('Tokyo', 'NNP'),\n",
       "  ('.', '.')],\n",
       " [('As', 'IN'),\n",
       "  ('these', 'DT'),\n",
       "  ('searches', 'NNS'),\n",
       "  ('intersect', 'VBP'),\n",
       "  (',', ','),\n",
       "  ('Okada', 'NNP'),\n",
       "  ('encounters', 'VBZ'),\n",
       "  ('a', 'DT'),\n",
       "  ('bizarre', 'JJ'),\n",
       "  ('group', 'NN'),\n",
       "  ('of', 'IN'),\n",
       "  ('allies', 'NNS'),\n",
       "  ('and', 'CC'),\n",
       "  ('antagonists', 'NNS'),\n",
       "  (':', ':'),\n",
       "  ('a', 'DT'),\n",
       "  ('psychic', 'JJ'),\n",
       "  ('prostitute', 'NN'),\n",
       "  (';', ':'),\n",
       "  ('a', 'DT'),\n",
       "  ('malevolent', 'NN'),\n",
       "  ('yet', 'RB'),\n",
       "  ('mediagenic', 'JJ'),\n",
       "  ('politician', 'NN'),\n",
       "  (';', ':'),\n",
       "  ('a', 'DT'),\n",
       "  ('cheerfully', 'RB'),\n",
       "  ('morbid', 'JJ'),\n",
       "  ('sixteen-year-old-girl', 'NN'),\n",
       "  (';', ':'),\n",
       "  ('and', 'CC'),\n",
       "  ('an', 'DT'),\n",
       "  ('aging', 'JJ'),\n",
       "  ('war', 'NN'),\n",
       "  ('veteran', 'NN'),\n",
       "  ('who', 'WP'),\n",
       "  ('has', 'VBZ'),\n",
       "  ('been', 'VBN'),\n",
       "  ('permanently', 'RB'),\n",
       "  ('changed', 'VBN'),\n",
       "  ('by', 'IN'),\n",
       "  ('the', 'DT'),\n",
       "  ('hideous', 'JJ'),\n",
       "  ('things', 'NNS'),\n",
       "  ('he', 'PRP'),\n",
       "  ('witnessed', 'VBD'),\n",
       "  ('during', 'IN'),\n",
       "  ('Japan', 'NNP'),\n",
       "  ('’', 'NNP'),\n",
       "  ('s', 'VBD'),\n",
       "  ('forgotten', 'VBN'),\n",
       "  ('campaign', 'NN'),\n",
       "  ('in', 'IN'),\n",
       "  ('Manchuria', 'NNP'),\n",
       "  ('.', '.')],\n",
       " [('Gripping', 'VBG'),\n",
       "  (',', ','),\n",
       "  ('prophetic', 'JJ'),\n",
       "  (',', ','),\n",
       "  ('suffused', 'VBN'),\n",
       "  ('with', 'IN'),\n",
       "  ('comedy', 'NN'),\n",
       "  ('and', 'CC'),\n",
       "  ('menace', 'NN'),\n",
       "  (',', ','),\n",
       "  ('The', 'DT'),\n",
       "  ('Wind-Up', 'NNP'),\n",
       "  ('Bird', 'NNP'),\n",
       "  ('Chronicle', 'NNP'),\n",
       "  ('is', 'VBZ'),\n",
       "  ('a', 'DT'),\n",
       "  ('tour', 'NN'),\n",
       "  ('de', 'FW'),\n",
       "  ('force', 'NN'),\n",
       "  ('equal', 'JJ'),\n",
       "  ('in', 'IN'),\n",
       "  ('scope', 'NN'),\n",
       "  ('to', 'TO'),\n",
       "  ('the', 'DT'),\n",
       "  ('masterpieces', 'NNS'),\n",
       "  ('of', 'IN'),\n",
       "  ('Mishima', 'NNP'),\n",
       "  ('and', 'CC'),\n",
       "  ('Pynchon', 'NNP'),\n",
       "  ('.', '.')]]"
      ]
     },
     "execution_count": 5,
     "metadata": {},
     "output_type": "execute_result"
    }
   ],
   "source": [
    "[pos_tag(sent) for sent in sents]"
   ]
  },
  {
   "cell_type": "code",
   "execution_count": 6,
   "metadata": {},
   "outputs": [
    {
     "name": "stderr",
     "output_type": "stream",
     "text": [
      "[nltk_data] Downloading package tagsets to\n",
      "[nltk_data]     C:\\Users\\OEM\\AppData\\Roaming\\nltk_data...\n",
      "[nltk_data]   Package tagsets is already up-to-date!\n"
     ]
    }
   ],
   "source": [
    "nltk.download('tagsets');"
   ]
  },
  {
   "cell_type": "code",
   "execution_count": 7,
   "metadata": {},
   "outputs": [
    {
     "name": "stdout",
     "output_type": "stream",
     "text": [
      "JJ: adjective or numeral, ordinal\n",
      "    third ill-mannered pre-war regrettable oiled calamitous first separable\n",
      "    ectoplasmic battery-powered participatory fourth still-to-be-named\n",
      "    multilingual multi-disciplinary ...\n",
      "NN: noun, common, singular or mass\n",
      "    common-carrier cabbage knuckle-duster Casino afghan shed thermostat\n",
      "    investment slide humour falloff slick wind hyena override subhumanity\n",
      "    machinist ...\n",
      "WDT: WH-determiner\n",
      "    that what whatever which whichever\n"
     ]
    }
   ],
   "source": [
    "nltk.help.upenn_tagset('JJ')\n",
    "nltk.help.upenn_tagset('NN')\n",
    "\n",
    "nltk.help.upenn_tagset('WDT')"
   ]
  },
  {
   "cell_type": "markdown",
   "metadata": {},
   "source": [
    "## Polish"
   ]
  },
  {
   "cell_type": "code",
   "execution_count": 8,
   "metadata": {},
   "outputs": [
    {
     "name": "stderr",
     "output_type": "stream",
     "text": [
      "[nltk_data] Downloading package pl196x to\n",
      "[nltk_data]     C:\\Users\\OEM\\AppData\\Roaming\\nltk_data...\n",
      "[nltk_data]   Package pl196x is already up-to-date!\n"
     ]
    }
   ],
   "source": [
    "nltk.download('pl196x');"
   ]
  },
  {
   "cell_type": "code",
   "execution_count": 9,
   "metadata": {},
   "outputs": [],
   "source": [
    "from nltk.corpus.reader import pl196x\n",
    "pl196x_dir = nltk.data.find('corpora/pl196x')\n",
    "pl = pl196x.Pl196xCorpusReader(pl196x_dir,r'.*\\.xml', textids='textids.txt', cat_file='cats.txt')"
   ]
  },
  {
   "cell_type": "code",
   "execution_count": 10,
   "metadata": {},
   "outputs": [
    {
     "name": "stdout",
     "output_type": "stream",
     "text": [
      "['a-publi.xml', 'b-prasa.xml', 'c-popul.xml', 'd-proza.xml', 'e-dramat.xml', 'flib.xml', 'fslib.xml', 'iso88592.xml', 'morf.xml', 'pl196x.xml']\n"
     ]
    }
   ],
   "source": [
    "print(pl.fileids())"
   ]
  },
  {
   "cell_type": "code",
   "execution_count": 11,
   "metadata": {},
   "outputs": [
    {
     "name": "stdout",
     "output_type": "stream",
     "text": [
      "('Sztuka', 'SSNF---------P')\n",
      "('utraciła', 'VS-F-3POD----P')\n",
      "('swoją', 'ASAFP--------P')\n",
      "('moc', 'SSAF---------P')\n",
      "('pobudzającą', 'ASAXX--------P')\n",
      "(':', 'dwukropek')\n",
      "('przykrym', 'ASIPP--------P ASIAP--------P ASIIP--------P ASINP--------P ASLPP--------P ASLAP--------P ASLIP--------P ASLNP--------P APDOP--------P APDRP--------P')\n",
      "('widowiskiem', 'SSIN---------P')\n",
      "('staje', 'VS---3TONZ---P')\n",
      "('się', 'Z-N----------P Z-G-------N--P Z-A-------N--P')\n"
     ]
    }
   ],
   "source": [
    "twords = pl.tagged_words(fileids=pl.fileids(), categories='cats.txt')\n",
    "for w in twords[:10]:\n",
    "   print(w)\n"
   ]
  }
 ],
 "metadata": {
  "kernelspec": {
   "display_name": "Python 3",
   "language": "python",
   "name": "python3"
  },
  "language_info": {
   "codemirror_mode": {
    "name": "ipython",
    "version": 3
   },
   "file_extension": ".py",
   "mimetype": "text/x-python",
   "name": "python",
   "nbconvert_exporter": "python",
   "pygments_lexer": "ipython3",
   "version": "3.7.3"
  }
 },
 "nbformat": 4,
 "nbformat_minor": 2
}
