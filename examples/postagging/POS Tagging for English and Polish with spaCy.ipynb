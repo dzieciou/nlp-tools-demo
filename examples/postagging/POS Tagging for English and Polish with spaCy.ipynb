{
 "cells": [
  {
   "cell_type": "markdown",
   "metadata": {},
   "source": [
    "# POS Tagging with for English and Polish with spaCy"
   ]
  },
  {
   "cell_type": "markdown",
   "metadata": {},
   "source": [
    "## Setup"
   ]
  },
  {
   "cell_type": "code",
   "execution_count": 3,
   "metadata": {},
   "outputs": [],
   "source": [
    "from utils import load_text\n",
    "import spacy\n",
    "import pl_model\n",
    "from pprint import pprint\n",
    "\n",
    "def demo(doc):\n",
    "    pprint([token.text for token in doc], compact=True)\n",
    "    pprint([token.pos_ for token in doc], compact=True)"
   ]
  },
  {
   "cell_type": "markdown",
   "metadata": {},
   "source": [
    "## English"
   ]
  },
  {
   "cell_type": "code",
   "execution_count": 5,
   "metadata": {},
   "outputs": [
    {
     "name": "stdout",
     "output_type": "stream",
     "text": [
      "['The', 'Wind', '-', 'Up', 'Bird', 'Chronicle', '\\n', 'Japan', '’s', 'most',\n",
      " 'highly', 'regarded', 'novelist', 'now', 'vaults', 'into', 'the', 'first',\n",
      " 'ranks', 'of', 'international', 'fiction', 'writers', 'with', 'this',\n",
      " 'heroically', 'imaginative', 'novel', ',', 'which', 'is', 'at', 'once', 'a',\n",
      " 'detective', 'story', ',', 'an', 'account', 'of', 'a', 'disintegrating',\n",
      " 'marriage', ',', 'and', 'an', 'excavation', 'of', 'the', 'buried', 'secrets',\n",
      " 'of', 'World', 'War', 'II', '.', '\\n\\n', 'In', 'a', 'Tokyo', 'suburb', 'a',\n",
      " 'young', 'man', 'named', 'Toru', 'Okada', 'searches', 'for', 'his', 'wife',\n",
      " '’s', 'missing', 'cat', '.', 'Soon', 'he', 'finds', 'himself', 'looking',\n",
      " 'for', 'his', 'wife', 'as', 'well', 'in', 'a', 'netherworld', 'that', 'lies',\n",
      " 'beneath', 'the', 'placid', 'surface', 'of', 'Tokyo', '.', 'As', 'these',\n",
      " 'searches', 'intersect', ',', 'Okada', 'encounters', 'a', 'bizarre', 'group',\n",
      " 'of', 'allies', 'and', 'antagonists', ':', 'a', 'psychic', 'prostitute', ';',\n",
      " 'a', 'malevolent', 'yet', 'mediagenic', 'politician', ';', 'a', 'cheerfully',\n",
      " 'morbid', 'sixteen', '-', 'year', '-', 'old', '-', 'girl', ';', 'and', 'an',\n",
      " 'aging', 'war', 'veteran', 'who', 'has', 'been', 'permanently', 'changed',\n",
      " 'by', 'the', 'hideous', 'things', 'he', 'witnessed', 'during', 'Japan', '’s',\n",
      " 'forgotten', 'campaign', 'in', 'Manchuria', '.', '\\n\\n', 'Gripping', ',',\n",
      " 'prophetic', ',', 'suffused', 'with', 'comedy', 'and', 'menace', ',', 'The',\n",
      " 'Wind', '-', 'Up', 'Bird', 'Chronicle', 'is', 'a', 'tour', 'de', 'force',\n",
      " 'equal', 'in', 'scope', 'to', 'the', 'masterpieces', 'of', 'Mishima', 'and',\n",
      " 'Pynchon', '.']\n",
      "['DET', 'NOUN', 'PUNCT', 'ADP', 'PROPN', 'PROPN', 'SPACE', 'PROPN', 'PROPN',\n",
      " 'ADV', 'ADV', 'VERB', 'NOUN', 'ADV', 'VERB', 'ADP', 'DET', 'ADJ', 'NOUN',\n",
      " 'ADP', 'ADJ', 'NOUN', 'NOUN', 'ADP', 'DET', 'ADV', 'ADJ', 'NOUN', 'PUNCT',\n",
      " 'PRON', 'AUX', 'ADP', 'ADV', 'DET', 'NOUN', 'NOUN', 'PUNCT', 'DET', 'NOUN',\n",
      " 'ADP', 'DET', 'ADJ', 'NOUN', 'PUNCT', 'CCONJ', 'DET', 'NOUN', 'ADP', 'DET',\n",
      " 'VERB', 'NOUN', 'ADP', 'PROPN', 'PROPN', 'PROPN', 'PUNCT', 'SPACE', 'ADP',\n",
      " 'DET', 'PROPN', 'NOUN', 'DET', 'ADJ', 'NOUN', 'VERB', 'PROPN', 'PROPN', 'NOUN',\n",
      " 'ADP', 'PRON', 'NOUN', 'PART', 'VERB', 'NOUN', 'PUNCT', 'ADV', 'PRON', 'VERB',\n",
      " 'PRON', 'VERB', 'ADP', 'PRON', 'NOUN', 'ADV', 'ADV', 'ADP', 'DET', 'NOUN',\n",
      " 'PRON', 'VERB', 'ADP', 'DET', 'ADJ', 'NOUN', 'ADP', 'PROPN', 'PUNCT', 'SCONJ',\n",
      " 'DET', 'NOUN', 'VERB', 'PUNCT', 'PROPN', 'VERB', 'DET', 'ADJ', 'NOUN', 'ADP',\n",
      " 'NOUN', 'CCONJ', 'NOUN', 'PUNCT', 'DET', 'ADJ', 'NOUN', 'PUNCT', 'DET', 'NOUN',\n",
      " 'CCONJ', 'ADJ', 'NOUN', 'PUNCT', 'DET', 'ADV', 'NOUN', 'NUM', 'PUNCT', 'NOUN',\n",
      " 'PUNCT', 'ADJ', 'PUNCT', 'NOUN', 'PUNCT', 'CCONJ', 'DET', 'VERB', 'NOUN',\n",
      " 'NOUN', 'PRON', 'AUX', 'AUX', 'ADV', 'VERB', 'ADP', 'DET', 'ADJ', 'NOUN',\n",
      " 'PRON', 'VERB', 'ADP', 'PROPN', 'PROPN', 'VERB', 'NOUN', 'ADP', 'PROPN',\n",
      " 'PUNCT', 'SPACE', 'PROPN', 'PUNCT', 'ADJ', 'PUNCT', 'VERB', 'ADP', 'NOUN',\n",
      " 'CCONJ', 'NOUN', 'PUNCT', 'DET', 'NOUN', 'PUNCT', 'ADP', 'PROPN', 'PROPN',\n",
      " 'AUX', 'DET', 'NOUN', 'X', 'NOUN', 'ADJ', 'ADP', 'NOUN', 'ADP', 'DET', 'NOUN',\n",
      " 'ADP', 'PROPN', 'CCONJ', 'PROPN', 'PUNCT']\n"
     ]
    }
   ],
   "source": [
    "text = load_text('../../texts/murakami-en.txt')\n",
    "nlp = spacy.load('en_core_web_sm')\n",
    "doc = nlp(text)\n",
    "demo(doc)"
   ]
  },
  {
   "cell_type": "markdown",
   "metadata": {},
   "source": [
    "## Polish"
   ]
  },
  {
   "cell_type": "code",
   "execution_count": 6,
   "metadata": {},
   "outputs": [
    {
     "name": "stdout",
     "output_type": "stream",
     "text": [
      "['To', 'najdziwniejsza', 'i', 'najtrudniejsza', 'książka', 'Murakamiego', '.',\n",
      " 'Prawdziwe', 'opus', 'magnum', '.', 'Zawiera', 'w', 'sobie', 'wszystko', ',',\n",
      " 'co', 'najlepsze', 'w', 'jego', 'pisarstwie', '.', '\\n\\n', 'Toru', 'Okada',\n",
      " ',', 'uzależniony', 'od', 'cytrynowych', 'dropsów', ',', 'typ', 'raczej',\n",
      " 'filozofa-melancholika', ',', 'niż', 'ambitnego', 'rekina', 'giełdowego', ',',\n",
      " 'rzuca', 'nagle', 'pracę', 'w', 'kancelarii', 'prawniczej', ',', 'gdzie',\n",
      " 'był', 'tylko', 'chłopcem', 'na', 'posyłki', '.', 'Całe', 'dnie', 'spędza',\n",
      " 'teraz', 'na', 'czytaniu', 'oraz', 'gotowaniu', 'dla', 'swojej', 'żony',\n",
      " 'Kumiko', '-', 'zapracowanej', 'redaktorki', 'w', 'magazynie', 'o', 'zdrowej',\n",
      " 'żywności', '.', 'Jednak', 'Kumiko', 'odchodzi', 'od', 'męża', 'z',\n",
      " 'domniemanym', 'kochankiem', ',', 'nie', 'zostawiając', 'nawet',\n",
      " 'pożegnalnego', 'listu', '.', 'Ginie', 'też', 'ich', 'ukochany', 'kot', '.',\n",
      " 'Na', 'policzku', 'Toru', 'pojawia', 'się', 'dziwnie', 'sine', 'znamię', ',',\n",
      " 'przed', 'którego', 'polizaniem', 'nie', 'mogą', 'oprzeć', 'się', 'kobiety',\n",
      " '.', 'W', 'dodatku', 'zaczyna', 'natrętnie', 'doń', 'wydzwaniać', 'tajemnicza',\n",
      " 'nieznajoma', 'z', 'obscenicznymi', 'propozycjami', '.', 'W', 'poszukiwaniu',\n",
      " 'kota', 'Okada', 'trafia', 'do', 'ogrodu', 'wokół', 'domu', 'wisielców', '(',\n",
      " 'wszyscy', 'jego', 'mieszkańcy', 'popełnili', 'samobójstwo', ')', '.', 'Tu',\n",
      " 'znajduje', 'się', 'wyschnięta', 'studnia', ',', 'do', 'której', 'zresztą',\n",
      " 'nie', 'omieszka', 'on', 'niejednokrotnie', 'zejść', 'by', '\"', 'pomedytować',\n",
      " '\"', '.', 'Życie', 'Okady', 'zaczyna', 'odtąd', 'przypominać', 'upiorny',\n",
      " 'sen', 'schizofrenika', '.', 'Bo', 'też', 'i', 'on', 'sam', 'zaczyna',\n",
      " 'prowadzić', 'dwa', 'życia', '-', 'w', '\"', 'normalnej', '\"', 'rzeczywistości',\n",
      " ',', 'gdzie', 'jest', 'opuszczonym', 'mężczyzną', 'wiążącym', 'ledwie',\n",
      " 'koniec', 'z', 'końcem', 'oraz', 'w', 'rzeczywistości', '\"', 'przekrzywionej',\n",
      " '\"', ',', 'dokąd', 'wyprawia', 'się', 'w', 'poszukiwaniu', 'Złej', 'Siły', ',',\n",
      " 'która', ',', 'jak', 'twierdzi', ',', 'odebrała', 'mu', 'żonę', '.',\n",
      " 'Miejscem', ',', 'które', 'łączy', 'oba', 'światy', 'jest', 'właśnie', 'owa',\n",
      " 'studnia', '.', 'Okada', 'spotyka', 'całą', 'galerię', 'przedziwnych',\n",
      " 'postaci', ':', 'Maltę', 'Kano', '-', 'kobietę-medium', ',', 'wiecznie',\n",
      " 'noszącą', 'czerwony', 'plastikowy', 'kapelusz', ',', 'jej', 'siostrę',\n",
      " 'Kretę', ',', 'dla', 'której', 'każdy', 'najmniejszy', 'ruch', 'wiązał', 'się',\n",
      " 'kiedyś', 'z', 'ogromnym', 'bólem', ',', 'dopóki', 'nie', 'padła', 'ofiarą',\n",
      " 'upiornego', 'gwałtu', ';', 'porucznika', 'Mamiyę', 'weterana', 'II', 'wojny',\n",
      " 'światowej', ',', 'świadka', 'przerażających', 'zbrodni', ';', 'człowieka',\n",
      " 'bez', 'twarzy', ',', 'który', 'jest', 'tylko', 'pustą', 'chodzącą', 'skorupą',\n",
      " ',', 'a', 'który', 'pomaga', 'mu', 'w', 'ucieczce', 'z', 'jednej',\n",
      " 'rzeczywistości', 'do', 'drugiej', '.', 'Do', 'tego', 'wszystkiego', 'jeszcze',\n",
      " 'przez', 'całą', 'książkę', 'przewija', 'się', 'złowieszczy', 'śpiew',\n",
      " 'tytułowego', 'ptaka', 'nakręcacza', ',', 'który', 'przypomina', 'odgłos',\n",
      " 'nakręcania', 'zardzewiałej', 'sprężyny', '-', 'ptak', 'nakręcacz', 'nakręca',\n",
      " 'bowiem', 'sprężynę', 'historii', ',', 'tym', 'samym', 'pogłębiając',\n",
      " 'stopień', 'zamętu', 'na', 'świecie', ',', 'pogłębiając', 'stopień',\n",
      " 'życiowych', 'komplikacji', 'bohaterów', 'książki', '.']\n",
      "['VERB', 'ADJ', 'CCONJ', 'ADJ', 'NOUN', 'NOUN', 'PUNCT', 'ADJ', 'NOUN', 'NOUN',\n",
      " 'PUNCT', 'VERB', 'ADP', 'PRON', 'NOUN', 'PUNCT', 'NOUN', 'ADJ', 'ADP', 'PRON',\n",
      " 'NOUN', 'PUNCT', 'SPACE', 'NOUN', 'NOUN', 'PUNCT', 'VERB', 'ADP', 'ADJ',\n",
      " 'NOUN', 'PUNCT', 'NOUN', 'PART', 'NOUN', 'PUNCT', 'CCONJ', 'ADJ', 'NOUN',\n",
      " 'ADJ', 'PUNCT', 'VERB', 'ADV', 'NOUN', 'ADP', 'NOUN', 'ADJ', 'PUNCT', 'ADV',\n",
      " 'VERB', 'PART', 'NOUN', 'ADP', 'NOUN', 'PUNCT', 'ADJ', 'NOUN', 'VERB', 'ADV',\n",
      " 'ADP', 'NOUN', 'CCONJ', 'NOUN', 'ADP', 'ADJ', 'NOUN', 'NOUN', 'PUNCT', 'ADJ',\n",
      " 'NOUN', 'ADP', 'NOUN', 'ADP', 'ADJ', 'NOUN', 'PUNCT', 'CCONJ', 'NOUN', 'VERB',\n",
      " 'ADP', 'NOUN', 'ADP', 'ADJ', 'NOUN', 'PUNCT', 'PART', 'VERB', 'PART', 'ADJ',\n",
      " 'NOUN', 'PUNCT', 'NOUN', 'PART', 'PRON', 'ADJ', 'NOUN', 'PUNCT', 'ADP', 'NOUN',\n",
      " 'NOUN', 'VERB', 'PART', 'ADV', 'ADJ', 'NOUN', 'PUNCT', 'ADP', 'ADJ', 'NOUN',\n",
      " 'PART', 'VERB', 'VERB', 'PART', 'NOUN', 'PUNCT', 'ADP', 'NOUN', 'VERB', 'ADV',\n",
      " 'PART', 'VERB', 'ADJ', 'NOUN', 'ADP', 'VERB', 'NOUN', 'PUNCT', 'ADP', 'NOUN',\n",
      " 'NOUN', 'NOUN', 'VERB', 'ADP', 'NOUN', 'ADP', 'NOUN', 'NOUN', 'PUNCT', 'ADJ',\n",
      " 'PRON', 'NOUN', 'VERB', 'NOUN', 'PUNCT', 'PUNCT', 'ADV', 'VERB', 'PART',\n",
      " 'VERB', 'NOUN', 'PUNCT', 'ADP', 'ADJ', 'PART', 'PART', 'VERB', 'PRON', 'ADV',\n",
      " 'VERB', 'PART', 'PUNCT', 'VERB', 'PUNCT', 'PUNCT', 'NOUN', 'NOUN', 'VERB',\n",
      " 'ADV', 'VERB', 'ADJ', 'NOUN', 'NOUN', 'PUNCT', 'SCONJ', 'PART', 'PART', 'PRON',\n",
      " 'ADJ', 'VERB', 'VERB', 'NUM', 'NOUN', 'PUNCT', 'ADP', 'PUNCT', 'ADJ', 'PUNCT',\n",
      " 'NOUN', 'PUNCT', 'ADV', 'VERB', 'VERB', 'NOUN', 'VERB', 'ADV', 'NOUN', 'ADP',\n",
      " 'NOUN', 'CCONJ', 'ADP', 'NOUN', 'PUNCT', 'VERB', 'PUNCT', 'PUNCT', 'ADV',\n",
      " 'VERB', 'PART', 'ADP', 'NOUN', 'ADJ', 'NOUN', 'PUNCT', 'ADJ', 'PUNCT', 'ADV',\n",
      " 'VERB', 'PUNCT', 'VERB', 'PRON', 'NOUN', 'PUNCT', 'NOUN', 'PUNCT', 'ADJ',\n",
      " 'VERB', 'NUM', 'NOUN', 'VERB', 'PART', 'ADJ', 'NOUN', 'PUNCT', 'NOUN', 'VERB',\n",
      " 'ADJ', 'NOUN', 'ADJ', 'NOUN', 'PUNCT', 'NOUN', 'NOUN', 'PUNCT', 'NOUN',\n",
      " 'PUNCT', 'ADV', 'VERB', 'ADJ', 'ADJ', 'NOUN', 'PUNCT', 'PRON', 'NOUN', 'NOUN',\n",
      " 'PUNCT', 'ADP', 'ADJ', 'ADJ', 'ADJ', 'NOUN', 'VERB', 'PART', 'ADV', 'ADP',\n",
      " 'ADJ', 'NOUN', 'PUNCT', 'SCONJ', 'PART', 'VERB', 'NOUN', 'ADJ', 'NOUN',\n",
      " 'PUNCT', 'NOUN', 'NOUN', 'NOUN', 'ADJ', 'NOUN', 'ADJ', 'PUNCT', 'NOUN', 'ADJ',\n",
      " 'NOUN', 'PUNCT', 'NOUN', 'ADP', 'NOUN', 'PUNCT', 'ADJ', 'VERB', 'PART', 'ADJ',\n",
      " 'VERB', 'NOUN', 'PUNCT', 'CCONJ', 'ADJ', 'VERB', 'PRON', 'ADP', 'NOUN', 'ADP',\n",
      " 'ADJ', 'NOUN', 'ADP', 'ADJ', 'PUNCT', 'ADP', 'ADJ', 'NOUN', 'PART', 'ADP',\n",
      " 'ADJ', 'NOUN', 'VERB', 'PART', 'VERB', 'NOUN', 'ADJ', 'NOUN', 'NOUN', 'PUNCT',\n",
      " 'ADJ', 'VERB', 'NOUN', 'NOUN', 'ADJ', 'NOUN', 'PUNCT', 'NOUN', 'NOUN', 'VERB',\n",
      " 'SCONJ', 'NOUN', 'NOUN', 'PUNCT', 'NOUN', 'ADJ', 'VERB', 'NOUN', 'NOUN', 'ADP',\n",
      " 'NOUN', 'PUNCT', 'VERB', 'NOUN', 'ADJ', 'NOUN', 'NOUN', 'NOUN', 'PUNCT']\n"
     ]
    }
   ],
   "source": [
    "text = load_text('../../texts/murakami-pl.txt')\n",
    "nlp = pl_model.load()\n",
    "doc = nlp(text)\n",
    "demo(doc)"
   ]
  },
  {
   "cell_type": "code",
   "execution_count": null,
   "metadata": {},
   "outputs": [],
   "source": []
  }
 ],
 "metadata": {
  "kernelspec": {
   "display_name": "Python 3",
   "language": "python",
   "name": "python3"
  },
  "language_info": {
   "codemirror_mode": {
    "name": "ipython",
    "version": 3
   },
   "file_extension": ".py",
   "mimetype": "text/x-python",
   "name": "python",
   "nbconvert_exporter": "python",
   "pygments_lexer": "ipython3",
   "version": "3.7.3"
  }
 },
 "nbformat": 4,
 "nbformat_minor": 2
}
