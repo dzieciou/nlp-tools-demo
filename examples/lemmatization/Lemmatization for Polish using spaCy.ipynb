{
 "cells": [
  {
   "cell_type": "markdown",
   "metadata": {},
   "source": [
    "# Lemmatization for Polish using spaCy\n"
   ]
  },
  {
   "cell_type": "markdown",
   "metadata": {},
   "source": [
    "Using model of Polish from [IPIPAN](https://github.com/ipipan/spacy-pl), without Morfeusz."
   ]
  },
  {
   "cell_type": "code",
   "execution_count": 2,
   "metadata": {},
   "outputs": [],
   "source": [
    "import spacy\n",
    "nlp = spacy.load('pl_spacy_model')"
   ]
  },
  {
   "cell_type": "code",
   "execution_count": 5,
   "metadata": {},
   "outputs": [
    {
     "name": "stdout",
     "output_type": "stream",
     "text": [
      "Granice granica SUBST\n",
      "mojego mój ADJ\n",
      "języka język SUBST\n",
      "oznaczają oznaczać FIN\n",
      "granice granica SUBST\n",
      "mojego mój ADJ\n",
      "świata świat SUBST\n"
     ]
    }
   ],
   "source": [
    "doc = nlp(\"Granice mojego języka oznaczają granice mojego świata\") # ~Wittgenstein\n",
    "for token in doc:\n",
    "    print(token.text, token.lemma_, token.tag_)"
   ]
  },
  {
   "cell_type": "code",
   "execution_count": 6,
   "metadata": {},
   "outputs": [
    {
     "name": "stdout",
     "output_type": "stream",
     "text": [
      "zostać zostać INF\n",
      "został zostać PRAET\n",
      "zostały zostać PRAET\n",
      "zostaną zostać FIN\n",
      "pomidor pomidor SUBST\n",
      "pomidorów pomidor SUBST\n",
      "pomidorowych pomidorowy ADJ\n",
      "pomidora pomidor SUBST\n",
      "pomidorowymi pomidorowy ADJ\n"
     ]
    }
   ],
   "source": [
    "doc = nlp(\"zostać został zostały zostaną pomidor pomidorów pomidorowych pomidora pomidorowymi\")\n",
    "for token in doc:\n",
    "    print(token.text, token.lemma_, token.tag_)"
   ]
  }
 ],
 "metadata": {
  "kernelspec": {
   "display_name": "Python 3",
   "language": "python",
   "name": "python3"
  },
  "language_info": {
   "codemirror_mode": {
    "name": "ipython",
    "version": 3
   },
   "file_extension": ".py",
   "mimetype": "text/x-python",
   "name": "python",
   "nbconvert_exporter": "python",
   "pygments_lexer": "ipython3",
   "version": "3.7.3"
  }
 },
 "nbformat": 4,
 "nbformat_minor": 2
}
