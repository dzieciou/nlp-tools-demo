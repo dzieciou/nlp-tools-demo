{
 "cells": [
  {
   "cell_type": "code",
   "execution_count": 1,
   "metadata": {},
   "outputs": [],
   "source": [
    "from stempel import StempelStemmer\n",
    "from pprint import pprint"
   ]
  },
  {
   "cell_type": "code",
   "execution_count": 3,
   "metadata": {},
   "outputs": [
    {
     "name": "stderr",
     "output_type": "stream",
     "text": [
      "Loading: 100%|██████████████████████████████████████████████████████████████████████████████████████████████████████████████████████████████████████████████████████████████████████████████████████████████████████| 11368252/11368252 [00:07<00:00, 1581829.62bytes/s]\n"
     ]
    }
   ],
   "source": [
    "stemmer = StempelStemmer.polimorf()"
   ]
  },
  {
   "cell_type": "markdown",
   "metadata": {},
   "source": [
    "## Stemming example"
   ]
  },
  {
   "cell_type": "code",
   "execution_count": 6,
   "metadata": {},
   "outputs": [
    {
     "name": "stdout",
     "output_type": "stream",
     "text": [
      "[('Granice', 'Granica'),\n",
      " ('mojego', 'mój'),\n",
      " ('języka', 'język'),\n",
      " ('oznaczają', 'oznaczać'),\n",
      " ('granice', 'granica'),\n",
      " ('mojego', 'mój'),\n",
      " ('świata', 'świat')]\n"
     ]
    }
   ],
   "source": [
    "words = \"Granice mojego języka oznaczają granice mojego świata\".split() # ~Wittgenstein\n",
    "stemmed_words = [stemmer.stem(word) for word in words]\n",
    "pprint([(word, stemmed) for word,stemmed in zip(words, stemmed_words)])"
   ]
  },
  {
   "cell_type": "code",
   "execution_count": 7,
   "metadata": {},
   "outputs": [],
   "source": [
    "words = 'zostać został zostały zostaną pomidor pomidorów pomidorowych pomidora pomidorowymi'.split()"
   ]
  },
  {
   "cell_type": "code",
   "execution_count": 9,
   "metadata": {},
   "outputs": [
    {
     "name": "stdout",
     "output_type": "stream",
     "text": [
      "[('zostać', 'zostać'),\n",
      " ('został', 'zostać'),\n",
      " ('zostały', 'zostać'),\n",
      " ('zostaną', 'zostać'),\n",
      " ('pomidor', 'pomidor'),\n",
      " ('pomidorów', 'pomidor'),\n",
      " ('pomidorowych', 'pomidorowy'),\n",
      " ('pomidora', 'pomidor'),\n",
      " ('pomidorowymi', 'pomidorowy')]\n"
     ]
    }
   ],
   "source": [
    "stemmed_words = [stemmer.stem(word) for word in words]\n",
    "pprint([(word, stemmed) for word,stemmed in zip(words, stemmed_words)])"
   ]
  }
 ],
 "metadata": {
  "kernelspec": {
   "display_name": "Python 3",
   "language": "python",
   "name": "python3"
  },
  "language_info": {
   "codemirror_mode": {
    "name": "ipython",
    "version": 3
   },
   "file_extension": ".py",
   "mimetype": "text/x-python",
   "name": "python",
   "nbconvert_exporter": "python",
   "pygments_lexer": "ipython3",
   "version": "3.7.3"
  }
 },
 "nbformat": 4,
 "nbformat_minor": 2
}
